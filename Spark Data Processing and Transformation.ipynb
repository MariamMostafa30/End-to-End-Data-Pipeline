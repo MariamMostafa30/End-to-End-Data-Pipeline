{
 "cells": [
  {
   "cell_type": "markdown",
   "metadata": {
    "application/vnd.databricks.v1+cell": {
     "cellMetadata": {
      "byteLimit": 2048000,
      "rowLimit": 10000
     },
     "inputWidgets": {},
     "nuid": "99b79434-42ae-4e68-b321-c974238893bc",
     "showTitle": false,
     "title": ""
    }
   },
   "source": [
    "##### Load (from AWS-S3 Bucket ) and Transform Data By Using Pyspark Dataframe "
   ]
  },
  {
   "cell_type": "markdown",
   "metadata": {
    "application/vnd.databricks.v1+cell": {
     "cellMetadata": {
      "byteLimit": 2048000,
      "rowLimit": 10000
     },
     "inputWidgets": {},
     "nuid": "37cad864-10f8-496d-a83c-a3d1883cc862",
     "showTitle": false,
     "title": ""
    }
   },
   "source": [
    "#### Import Libraries"
   ]
  },
  {
   "cell_type": "code",
   "execution_count": 0,
   "metadata": {
    "application/vnd.databricks.v1+cell": {
     "cellMetadata": {
      "byteLimit": 2048000,
      "rowLimit": 10000
     },
     "inputWidgets": {},
     "nuid": "0c0cf0b6-636e-4304-a09b-890ab51c5bb8",
     "showTitle": false,
     "title": ""
    }
   },
   "outputs": [
    {
     "output_type": "stream",
     "name": "stdout",
     "output_type": "stream",
     "text": [
      "Collecting faker\r\n  Downloading Faker-19.13.0-py3-none-any.whl (1.7 MB)\r\n\u001B[?25l\r\u001B[K     |▏                               | 10 kB 5.9 MB/s eta 0:00:01\r\u001B[K     |▍                               | 20 kB 8.7 MB/s eta 0:00:01\r\u001B[K     |▋                               | 30 kB 10.5 MB/s eta 0:00:01\r\u001B[K     |▊                               | 40 kB 5.1 MB/s eta 0:00:01\r\u001B[K     |█                               | 51 kB 5.8 MB/s eta 0:00:01\r\u001B[K     |█▏                              | 61 kB 6.7 MB/s eta 0:00:01\r\u001B[K     |█▎                              | 71 kB 5.0 MB/s eta 0:00:01\r\u001B[K     |█▌                              | 81 kB 5.6 MB/s eta 0:00:01\r\u001B[K     |█▊                              | 92 kB 6.2 MB/s eta 0:00:01\r\u001B[K     |█▉                              | 102 kB 6.5 MB/s eta 0:00:01\r\u001B[K     |██                              | 112 kB 6.5 MB/s eta 0:00:01\r\u001B[K     |██▎                             | 122 kB 6.5 MB/s eta 0:00:01\r\u001B[K     |██▌                             | 133 kB 6.5 MB/s eta 0:00:01\r\u001B[K     |██▋                             | 143 kB 6.5 MB/s eta 0:00:01\r\u001B[K     |██▉                             | 153 kB 6.5 MB/s eta 0:00:01\r\u001B[K     |███                             | 163 kB 6.5 MB/s eta 0:00:01\r\u001B[K     |███▏                            | 174 kB 6.5 MB/s eta 0:00:01\r\u001B[K     |███▍                            | 184 kB 6.5 MB/s eta 0:00:01\r\u001B[K     |███▋                            | 194 kB 6.5 MB/s eta 0:00:01\r\u001B[K     |███▊                            | 204 kB 6.5 MB/s eta 0:00:01\r\u001B[K     |████                            | 215 kB 6.5 MB/s eta 0:00:01\r\u001B[K     |████▏                           | 225 kB 6.5 MB/s eta 0:00:01\r\u001B[K     |████▍                           | 235 kB 6.5 MB/s eta 0:00:01\r\u001B[K     |████▌                           | 245 kB 6.5 MB/s eta 0:00:01\r\u001B[K     |████▊                           | 256 kB 6.5 MB/s eta 0:00:01\r\u001B[K     |█████                           | 266 kB 6.5 MB/s eta 0:00:01\r\u001B[K     |█████                           | 276 kB 6.5 MB/s eta 0:00:01\r\u001B[K     |█████▎                          | 286 kB 6.5 MB/s eta 0:00:01\r\u001B[K     |█████▌                          | 296 kB 6.5 MB/s eta 0:00:01\r\u001B[K     |█████▋                          | 307 kB 6.5 MB/s eta 0:00:01\r\u001B[K     |█████▉                          | 317 kB 6.5 MB/s eta 0:00:01\r\u001B[K     |██████                          | 327 kB 6.5 MB/s eta 0:00:01\r\u001B[K     |██████▎                         | 337 kB 6.5 MB/s eta 0:00:01\r\u001B[K     |██████▍                         | 348 kB 6.5 MB/s eta 0:00:01\r\u001B[K     |██████▋                         | 358 kB 6.5 MB/s eta 0:00:01\r\u001B[K     |██████▉                         | 368 kB 6.5 MB/s eta 0:00:01\r\u001B[K     |███████                         | 378 kB 6.5 MB/s eta 0:00:01\r\u001B[K     |███████▏                        | 389 kB 6.5 MB/s eta 0:00:01\r\u001B[K     |███████▍                        | 399 kB 6.5 MB/s eta 0:00:01\r\u001B[K     |███████▌                        | 409 kB 6.5 MB/s eta 0:00:01\r\u001B[K     |███████▊                        | 419 kB 6.5 MB/s eta 0:00:01\r\u001B[K     |████████                        | 430 kB 6.5 MB/s eta 0:00:01\r\u001B[K     |████████                        | 440 kB 6.5 MB/s eta 0:00:01\r\u001B[K     |████████▎                       | 450 kB 6.5 MB/s eta 0:00:01\r\u001B[K     |████████▌                       | 460 kB 6.5 MB/s eta 0:00:01\r\u001B[K     |████████▊                       | 471 kB 6.5 MB/s eta 0:00:01\r\u001B[K     |████████▉                       | 481 kB 6.5 MB/s eta 0:00:01\r\u001B[K     |█████████                       | 491 kB 6.5 MB/s eta 0:00:01\r\u001B[K     |█████████▎                      | 501 kB 6.5 MB/s eta 0:00:01\r\u001B[K     |█████████▍                      | 512 kB 6.5 MB/s eta 0:00:01\r\u001B[K     |█████████▋                      | 522 kB 6.5 MB/s eta 0:00:01\r\u001B[K     |█████████▉                      | 532 kB 6.5 MB/s eta 0:00:01\r\u001B[K     |██████████                      | 542 kB 6.5 MB/s eta 0:00:01\r\u001B[K     |██████████▏                     | 552 kB 6.5 MB/s eta 0:00:01\r\u001B[K     |██████████▍                     | 563 kB 6.5 MB/s eta 0:00:01\r\u001B[K     |██████████▋                     | 573 kB 6.5 MB/s eta 0:00:01\r\u001B[K     |██████████▊                     | 583 kB 6.5 MB/s eta 0:00:01\r\u001B[K     |███████████                     | 593 kB 6.5 MB/s eta 0:00:01\r\u001B[K     |███████████▏                    | 604 kB 6.5 MB/s eta 0:00:01\r\u001B[K     |███████████▎                    | 614 kB 6.5 MB/s eta 0:00:01\r\u001B[K     |███████████▌                    | 624 kB 6.5 MB/s eta 0:00:01\r\u001B[K     |███████████▊                    | 634 kB 6.5 MB/s eta 0:00:01\r\u001B[K     |███████████▉                    | 645 kB 6.5 MB/s eta 0:00:01\r\u001B[K     |████████████                    | 655 kB 6.5 MB/s eta 0:00:01\r\u001B[K     |████████████▎                   | 665 kB 6.5 MB/s eta 0:00:01\r\u001B[K     |████████████▌                   | 675 kB 6.5 MB/s eta 0:00:01\r\u001B[K     |████████████▋                   | 686 kB 6.5 MB/s eta 0:00:01\r\u001B[K     |████████████▉                   | 696 kB 6.5 MB/s eta 0:00:01\r\u001B[K     |█████████████                   | 706 kB 6.5 MB/s eta 0:00:01\r\u001B[K     |█████████████▏                  | 716 kB 6.5 MB/s eta 0:00:01\r\u001B[K     |█████████████▍                  | 727 kB 6.5 MB/s eta 0:00:01\r\u001B[K     |█████████████▋                  | 737 kB 6.5 MB/s eta 0:00:01\r\u001B[K     |█████████████▊                  | 747 kB 6.5 MB/s eta 0:00:01\r\u001B[K     |██████████████                  | 757 kB 6.5 MB/s eta 0:00:01\r\u001B[K     |██████████████▏                 | 768 kB 6.5 MB/s eta 0:00:01\r\u001B[K     |██████████████▍                 | 778 kB 6.5 MB/s eta 0:00:01\r\u001B[K     |██████████████▌                 | 788 kB 6.5 MB/s eta 0:00:01\r\u001B[K     |██████████████▊                 | 798 kB 6.5 MB/s eta 0:00:01\r\u001B[K     |███████████████                 | 808 kB 6.5 MB/s eta 0:00:01\r\u001B[K     |███████████████                 | 819 kB 6.5 MB/s eta 0:00:01\r\u001B[K     |███████████████▎                | 829 kB 6.5 MB/s eta 0:00:01\r\u001B[K     |███████████████▌                | 839 kB 6.5 MB/s eta 0:00:01\r\u001B[K     |███████████████▋                | 849 kB 6.5 MB/s eta 0:00:01\r\u001B[K     |███████████████▉                | 860 kB 6.5 MB/s eta 0:00:01\r\u001B[K     |████████████████                | 870 kB 6.5 MB/s eta 0:00:01\r\u001B[K     |████████████████▏               | 880 kB 6.5 MB/s eta 0:00:01\r\u001B[K     |████████████████▍               | 890 kB 6.5 MB/s eta 0:00:01\r\u001B[K     |████████████████▋               | 901 kB 6.5 MB/s eta 0:00:01\r\u001B[K     |████████████████▉               | 911 kB 6.5 MB/s eta 0:00:01\r\u001B[K     |█████████████████               | 921 kB 6.5 MB/s eta 0:00:01\r\u001B[K     |█████████████████▏              | 931 kB 6.5 MB/s eta 0:00:01\r\u001B[K     |█████████████████▍              | 942 kB 6.5 MB/s eta 0:00:01\r\u001B[K     |█████████████████▌              | 952 kB 6.5 MB/s eta 0:00:01\r\u001B[K     |█████████████████▊              | 962 kB 6.5 MB/s eta 0:00:01\r\u001B[K     |██████████████████              | 972 kB 6.5 MB/s eta 0:00:01\r\u001B[K     |██████████████████              | 983 kB 6.5 MB/s eta 0:00:01\r\u001B[K     |██████████████████▎             | 993 kB 6.5 MB/s eta 0:00:01\r\u001B[K     |██████████████████▌             | 1.0 MB 6.5 MB/s eta 0:00:01\r\u001B[K     |██████████████████▊             | 1.0 MB 6.5 MB/s eta 0:00:01\r\u001B[K     |██████████████████▉             | 1.0 MB 6.5 MB/s eta 0:00:01\r\u001B[K     |███████████████████             | 1.0 MB 6.5 MB/s eta 0:00:01\r\u001B[K     |███████████████████▎            | 1.0 MB 6.5 MB/s eta 0:00:01\r\u001B[K     |███████████████████▍            | 1.1 MB 6.5 MB/s eta 0:00:01\r\u001B[K     |███████████████████▋            | 1.1 MB 6.5 MB/s eta 0:00:01\r\u001B[K     |███████████████████▉            | 1.1 MB 6.5 MB/s eta 0:00:01\r\u001B[K     |████████████████████            | 1.1 MB 6.5 MB/s eta 0:00:01\r\u001B[K     |████████████████████▏           | 1.1 MB 6.5 MB/s eta 0:00:01\r\u001B[K     |████████████████████▍           | 1.1 MB 6.5 MB/s eta 0:00:01\r\u001B[K     |████████████████████▋           | 1.1 MB 6.5 MB/s eta 0:00:01\r\u001B[K     |████████████████████▊           | 1.1 MB 6.5 MB/s eta 0:00:01\r\u001B[K     |█████████████████████           | 1.1 MB 6.5 MB/s eta 0:00:01\r\u001B[K     |█████████████████████▏          | 1.1 MB 6.5 MB/s eta 0:00:01\r\u001B[K     |█████████████████████▎          | 1.2 MB 6.5 MB/s eta 0:00:01\r\u001B[K     |█████████████████████▌          | 1.2 MB 6.5 MB/s eta 0:00:01\r\u001B[K     |█████████████████████▊          | 1.2 MB 6.5 MB/s eta 0:00:01\r\u001B[K     |█████████████████████▉          | 1.2 MB 6.5 MB/s eta 0:00:01\r\u001B[K     |██████████████████████          | 1.2 MB 6.5 MB/s eta 0:00:01\r\u001B[K     |██████████████████████▎         | 1.2 MB 6.5 MB/s eta 0:00:01\r\u001B[K     |██████████████████████▍         | 1.2 MB 6.5 MB/s eta 0:00:01\r\u001B[K     |██████████████████████▋         | 1.2 MB 6.5 MB/s eta 0:00:01\r\u001B[K     |██████████████████████▉         | 1.2 MB 6.5 MB/s eta 0:00:01\r\u001B[K     |███████████████████████         | 1.2 MB 6.5 MB/s eta 0:00:01\r\u001B[K     |███████████████████████▏        | 1.3 MB 6.5 MB/s eta 0:00:01\r\u001B[K     |███████████████████████▍        | 1.3 MB 6.5 MB/s eta 0:00:01\r\u001B[K     |███████████████████████▋        | 1.3 MB 6.5 MB/s eta 0:00:01\r\u001B[K     |███████████████████████▊        | 1.3 MB 6.5 MB/s eta 0:00:01\r\u001B[K     |████████████████████████        | 1.3 MB 6.5 MB/s eta 0:00:01\r\u001B[K     |████████████████████████▏       | 1.3 MB 6.5 MB/s eta 0:00:01\r\u001B[K     |████████████████████████▎       | 1.3 MB 6.5 MB/s eta 0:00:01\r\u001B[K     |████████████████████████▌       | 1.3 MB 6.5 MB/s eta 0:00:01\r\u001B[K     |████████████████████████▊       | 1.3 MB 6.5 MB/s eta 0:00:01\r\u001B[K     |█████████████████████████       | 1.4 MB 6.5 MB/s eta 0:00:01\r\u001B[K     |█████████████████████████       | 1.4 MB 6.5 MB/s eta 0:00:01\r\u001B[K     |█████████████████████████▎      | 1.4 MB 6.5 MB/s eta 0:00:01\r\u001B[K     |█████████████████████████▌      | 1.4 MB 6.5 MB/s eta 0:00:01\r\u001B[K     |█████████████████████████▋      | 1.4 MB 6.5 MB/s eta 0:00:01\r\u001B[K     |█████████████████████████▉      | 1.4 MB 6.5 MB/s eta 0:00:01\r\u001B[K     |██████████████████████████      | 1.4 MB 6.5 MB/s eta 0:00:01\r\u001B[K     |██████████████████████████▏     | 1.4 MB 6.5 MB/s eta 0:00:01\r\u001B[K     |██████████████████████████▍     | 1.4 MB 6.5 MB/s eta 0:00:01\r\u001B[K     |██████████████████████████▋     | 1.4 MB 6.5 MB/s eta 0:00:01\r\u001B[K     |██████████████████████████▉     | 1.5 MB 6.5 MB/s eta 0:00:01\r\u001B[K     |███████████████████████████     | 1.5 MB 6.5 MB/s eta 0:00:01\r\u001B[K     |███████████████████████████▏    | 1.5 MB 6.5 MB/s eta 0:00:01\r\u001B[K     |███████████████████████████▍    | 1.5 MB 6.5 MB/s eta 0:00:01\r\u001B[K     |███████████████████████████▌    | 1.5 MB 6.5 MB/s eta 0:00:01\r\u001B[K     |███████████████████████████▊    | 1.5 MB 6.5 MB/s eta 0:00:01\r\u001B[K     |████████████████████████████    | 1.5 MB 6.5 MB/s eta 0:00:01\r\u001B[K     |████████████████████████████    | 1.5 MB 6.5 MB/s eta 0:00:01\r\u001B[K     |████████████████████████████▎   | 1.5 MB 6.5 MB/s eta 0:00:01\r\u001B[K     |████████████████████████████▌   | 1.5 MB 6.5 MB/s eta 0:00:01\r\u001B[K     |████████████████████████████▊   | 1.6 MB 6.5 MB/s eta 0:00:01\r\u001B[K     |████████████████████████████▉   | 1.6 MB 6.5 MB/s eta 0:00:01\r\u001B[K     |█████████████████████████████   | 1.6 MB 6.5 MB/s eta 0:00:01\r\u001B[K     |█████████████████████████████▎  | 1.6 MB 6.5 MB/s eta 0:00:01\r\u001B[K     |█████████████████████████████▍  | 1.6 MB 6.5 MB/s eta 0:00:01\r\u001B[K     |█████████████████████████████▋  | 1.6 MB 6.5 MB/s eta 0:00:01\r\u001B[K     |█████████████████████████████▉  | 1.6 MB 6.5 MB/s eta 0:00:01\r\u001B[K     |██████████████████████████████  | 1.6 MB 6.5 MB/s eta 0:00:01\r\u001B[K     |██████████████████████████████▏ | 1.6 MB 6.5 MB/s eta 0:00:01\r\u001B[K     |██████████████████████████████▍ | 1.6 MB 6.5 MB/s eta 0:00:01\r\u001B[K     |██████████████████████████████▌ | 1.7 MB 6.5 MB/s eta 0:00:01\r\u001B[K     |██████████████████████████████▊ | 1.7 MB 6.5 MB/s eta 0:00:01\r\u001B[K     |███████████████████████████████ | 1.7 MB 6.5 MB/s eta 0:00:01\r\u001B[K     |███████████████████████████████▏| 1.7 MB 6.5 MB/s eta 0:00:01\r\u001B[K     |███████████████████████████████▎| 1.7 MB 6.5 MB/s eta 0:00:01\r\u001B[K     |███████████████████████████████▌| 1.7 MB 6.5 MB/s eta 0:00:01\r\u001B[K     |███████████████████████████████▊| 1.7 MB 6.5 MB/s eta 0:00:01\r\u001B[K     |███████████████████████████████▉| 1.7 MB 6.5 MB/s eta 0:00:01\r\u001B[K     |████████████████████████████████| 1.7 MB 6.5 MB/s \r\n\u001B[?25hRequirement already satisfied: python-dateutil>=2.4 in /databricks/python3/lib/python3.9/site-packages (from faker) (2.8.2)\r\nRequirement already satisfied: six>=1.5 in /databricks/python3/lib/python3.9/site-packages (from python-dateutil>=2.4->faker) (1.16.0)\r\nInstalling collected packages: faker\r\nSuccessfully installed faker-19.13.0\r\n\u001B[33mWARNING: You are using pip version 21.2.4; however, version 23.3.1 is available.\r\nYou should consider upgrading via the '/local_disk0/.ephemeral_nfs/envs/pythonEnv-40da3987-79f8-4f0d-b051-789750df1bf3/bin/python -m pip install --upgrade pip' command.\u001B[0m\r\n"
     ]
    }
   ],
   "source": [
    "!pip install faker"
   ]
  },
  {
   "cell_type": "code",
   "execution_count": 0,
   "metadata": {
    "application/vnd.databricks.v1+cell": {
     "cellMetadata": {
      "byteLimit": 2048000,
      "rowLimit": 10000
     },
     "inputWidgets": {},
     "nuid": "cb5956b0-b34e-4821-988f-a8a87fbaff1e",
     "showTitle": false,
     "title": ""
    }
   },
   "outputs": [],
   "source": [
    "from pyspark.sql import SparkSession ,SQLContext\n",
    "import os\n",
    "from faker import Faker\n",
    "from pathlib import Path\n",
    "from pyspark.sql.functions import *\n",
    "from pyspark.sql.types import *\n",
    "from pyspark.sql import Window\n",
    "# import configparser\n",
    "#from dotenv import load_dotenv"
   ]
  },
  {
   "cell_type": "markdown",
   "metadata": {
    "application/vnd.databricks.v1+cell": {
     "cellMetadata": {
      "byteLimit": 2048000,
      "rowLimit": 10000
     },
     "inputWidgets": {},
     "nuid": "c84223f0-792a-4332-be2d-e29f0092a14c",
     "showTitle": false,
     "title": ""
    }
   },
   "source": [
    "##### Read from config file"
   ]
  },
  {
   "cell_type": "code",
   "execution_count": 0,
   "metadata": {
    "application/vnd.databricks.v1+cell": {
     "cellMetadata": {
      "byteLimit": 2048000,
      "rowLimit": 10000
     },
     "inputWidgets": {},
     "nuid": "f01be116-c495-498c-9ec6-86e82a624583",
     "showTitle": false,
     "title": ""
    }
   },
   "outputs": [],
   "source": [
    "ACCESS_KEY = \"Your Access Key\"\n",
    "SECRET_KEY = \"Your Secret Key\"\n",
    "#there is an error pop while you are puting jar packages therefore, you need to ensure again your hadoop home\n",
    "#if you run spark locally>> os.environ['HADOOP_HOME']=\"C:\\\\winutils\" "
   ]
  },
  {
   "cell_type": "markdown",
   "metadata": {
    "application/vnd.databricks.v1+cell": {
     "cellMetadata": {
      "byteLimit": 2048000,
      "rowLimit": 10000
     },
     "inputWidgets": {},
     "nuid": "e2ecab10-8e23-4e90-85f2-8e01d400576a",
     "showTitle": false,
     "title": ""
    }
   },
   "source": [
    "#### Create spark session & Setup the configuration"
   ]
  },
  {
   "cell_type": "code",
   "execution_count": 0,
   "metadata": {
    "application/vnd.databricks.v1+cell": {
     "cellMetadata": {
      "byteLimit": 2048000,
      "rowLimit": 10000
     },
     "inputWidgets": {},
     "nuid": "ebfff519-6f40-45e5-8b70-e9fd36417312",
     "showTitle": false,
     "title": ""
    }
   },
   "outputs": [],
   "source": [
    "def create_spark_session():\n",
    "    spark= SparkSession.builder.\\\n",
    "                config('spark.master','local').\\\n",
    "                config('spark.app.name','s3_app').\\\n",
    "                getOrCreate()\n",
    "    return spark"
   ]
  },
  {
   "cell_type": "markdown",
   "metadata": {
    "application/vnd.databricks.v1+cell": {
     "cellMetadata": {
      "byteLimit": 2048000,
      "rowLimit": 10000
     },
     "inputWidgets": {},
     "nuid": "1f0a035c-4dd6-4bd5-9a1d-fba8896459fe",
     "showTitle": false,
     "title": ""
    }
   },
   "source": [
    "#### Setup Hadoop-AWS configrution to make pyspark able to access s3 bucket"
   ]
  },
  {
   "cell_type": "code",
   "execution_count": 0,
   "metadata": {
    "application/vnd.databricks.v1+cell": {
     "cellMetadata": {
      "byteLimit": 2048000,
      "rowLimit": 10000
     },
     "inputWidgets": {},
     "nuid": "8fd4dc21-47f9-43eb-92d1-7cd838ba9672",
     "showTitle": false,
     "title": ""
    }
   },
   "outputs": [],
   "source": [
    "def configure_hadoop_aws():\n",
    "    spark=create_spark_session()\n",
    "    spark._jsc.hadoopConfiguration().set(\"fs.s3a.access.key\", ACCESS_KEY)\n",
    "    spark._jsc.hadoopConfiguration().set(\"fs.s3a.secret.key\", SECRET_KEY)\n",
    "    spark._jsc.hadoopConfiguration().set(\"fs.AbstractFileSystem.s3a.impl\",\"org.apache.hadoop.fs.s3a.S3A\")\n",
    "    return spark"
   ]
  },
  {
   "cell_type": "code",
   "execution_count": 0,
   "metadata": {
    "application/vnd.databricks.v1+cell": {
     "cellMetadata": {
      "byteLimit": 2048000,
      "rowLimit": 10000
     },
     "inputWidgets": {},
     "nuid": "b9571018-9be2-4f7c-838b-4fc5816cccad",
     "showTitle": false,
     "title": ""
    }
   },
   "outputs": [
    {
     "output_type": "display_data",
     "data": {
      "text/html": [
       "\n",
       "            <div>\n",
       "                <p><b>SparkSession - hive</b></p>\n",
       "                \n",
       "        <div>\n",
       "            <p><b>SparkContext</b></p>\n",
       "\n",
       "            <p><a href=\"/?o=3503255432596243#setting/sparkui/1107-124819-8wbem1no/driver-571218012326108021\">Spark UI</a></p>\n",
       "\n",
       "            <dl>\n",
       "              <dt>Version</dt>\n",
       "                <dd><code>v3.3.2</code></dd>\n",
       "              <dt>Master</dt>\n",
       "                <dd><code>local[8]</code></dd>\n",
       "              <dt>AppName</dt>\n",
       "                <dd><code>Databricks Shell</code></dd>\n",
       "            </dl>\n",
       "        </div>\n",
       "        \n",
       "            </div>\n",
       "        "
      ]
     },
     "metadata": {
      "application/vnd.databricks.v1+output": {
       "addedWidgets": {},
       "arguments": {},
       "data": "\n            <div>\n                <p><b>SparkSession - hive</b></p>\n                \n        <div>\n            <p><b>SparkContext</b></p>\n\n            <p><a href=\"/?o=3503255432596243#setting/sparkui/1107-124819-8wbem1no/driver-571218012326108021\">Spark UI</a></p>\n\n            <dl>\n              <dt>Version</dt>\n                <dd><code>v3.3.2</code></dd>\n              <dt>Master</dt>\n                <dd><code>local[8]</code></dd>\n              <dt>AppName</dt>\n                <dd><code>Databricks Shell</code></dd>\n            </dl>\n        </div>\n        \n            </div>\n        ",
       "datasetInfos": [],
       "metadata": {},
       "removedWidgets": [],
       "textData": null,
       "type": "htmlSandbox"
      }
     },
     "output_type": "display_data"
    }
   ],
   "source": [
    "spark=configure_hadoop_aws()\n",
    "spark"
   ]
  },
  {
   "cell_type": "code",
   "execution_count": 0,
   "metadata": {
    "application/vnd.databricks.v1+cell": {
     "cellMetadata": {
      "byteLimit": 2048000,
      "rowLimit": 10000
     },
     "inputWidgets": {},
     "nuid": "5510ee7e-0777-48cf-9a50-d8639bf36457",
     "showTitle": false,
     "title": ""
    }
   },
   "outputs": [
    {
     "output_type": "stream",
     "name": "stdout",
     "output_type": "stream",
     "text": [
      "Out[55]: 67502223"
     ]
    }
   ],
   "source": [
    "# get all files in bucket\n",
    "s3_df=spark.read.csv(\"s3a://sprints-bucket-for-data-engineer-project/\",header=True,inferSchema=True)\n",
    "s3_df.count()"
   ]
  },
  {
   "cell_type": "code",
   "execution_count": 0,
   "metadata": {
    "application/vnd.databricks.v1+cell": {
     "cellMetadata": {
      "byteLimit": 2048000,
      "rowLimit": 10000
     },
     "inputWidgets": {},
     "nuid": "9d9616de-e3e9-481a-a94b-cbaeb2e566e4",
     "showTitle": false,
     "title": ""
    }
   },
   "outputs": [],
   "source": [
    "#get sample of data which describe e-commerce customer behavior on Oct and Nov\n",
    "Oct_sample = spark.read.csv(\"s3a://sprints-bucket-for-data-engineer-project/2019-Oct-EC-customer-behaviour_85385155-bde1-405e-972b-6031808edb4a.csv\",header=True,inferSchema=True)\n",
    "Nov_sample = spark.read.csv(\"s3a://sprints-bucket-for-data-engineer-project/2019-Nov-EC-customer-behaviour_00c9adb4-00f0-4c71-b0b0-94ade210d073.csv\",header=True,inferSchema=True)\n",
    "sample_df = Oct_sample.union(Nov_sample)"
   ]
  },
  {
   "cell_type": "code",
   "execution_count": 0,
   "metadata": {
    "application/vnd.databricks.v1+cell": {
     "cellMetadata": {
      "byteLimit": 2048000,
      "rowLimit": 10000
     },
     "inputWidgets": {},
     "nuid": "6dc4ec96-d957-4f17-8daf-dda4078182cb",
     "showTitle": false,
     "title": ""
    }
   },
   "outputs": [],
   "source": [
    "# #write sample raw data in a table \n",
    "# sample_df.write.mode(\"overwrite\").saveAsTable(\"ecommerce_customer_behavior_Oct_Nov\")"
   ]
  },
  {
   "cell_type": "markdown",
   "metadata": {
    "application/vnd.databricks.v1+cell": {
     "cellMetadata": {
      "byteLimit": 2048000,
      "rowLimit": 10000
     },
     "inputWidgets": {},
     "nuid": "a21e0090-3f04-48a5-bdcf-5dfafe8e5724",
     "showTitle": false,
     "title": ""
    }
   },
   "source": [
    "#### Data Exploration and Transformation\n"
   ]
  },
  {
   "cell_type": "code",
   "execution_count": 0,
   "metadata": {
    "application/vnd.databricks.v1+cell": {
     "cellMetadata": {
      "byteLimit": 2048000,
      "rowLimit": 10000
     },
     "inputWidgets": {},
     "nuid": "86465a65-84f0-43a4-8688-9b8bde6d7001",
     "showTitle": false,
     "title": ""
    }
   },
   "outputs": [
    {
     "output_type": "stream",
     "name": "stdout",
     "output_type": "stream",
     "text": [
      "Out[10]: [('event_time', 'timestamp'),\n ('event_type', 'string'),\n ('product_id', 'int'),\n ('category_id', 'bigint'),\n ('category_code', 'string'),\n ('brand', 'string'),\n ('price', 'double'),\n ('user_id', 'int'),\n ('user_session', 'string')]"
     ]
    }
   ],
   "source": [
    "#data type for each column\n",
    "sample_df.dtypes"
   ]
  },
  {
   "cell_type": "code",
   "execution_count": 0,
   "metadata": {
    "application/vnd.databricks.v1+cell": {
     "cellMetadata": {
      "byteLimit": 2048000,
      "rowLimit": 10000
     },
     "inputWidgets": {},
     "nuid": "1e36ffd9-7ff5-4e0a-b38c-59a7266ee02d",
     "showTitle": false,
     "title": ""
    }
   },
   "outputs": [
    {
     "output_type": "stream",
     "name": "stdout",
     "output_type": "stream",
     "text": [
      "+----------+----------+----------+-----------+-------------+------+-----+-------+------------+\n|event_time|event_type|product_id|category_id|category_code| brand|price|user_id|user_session|\n+----------+----------+----------+-----------+-------------+------+-----+-------+------------+\n|         0|         0|         0|          0|      1850906|749212|    0|      0|           0|\n+----------+----------+----------+-----------+-------------+------+-----+-------+------------+\n\n"
     ]
    }
   ],
   "source": [
    "#Count number of nulls for each column\n",
    "sample_df.select([count(when(col(c).isNull(), c)).alias(c) for c in sample_df.columns]).show()"
   ]
  },
  {
   "cell_type": "code",
   "execution_count": 0,
   "metadata": {
    "application/vnd.databricks.v1+cell": {
     "cellMetadata": {
      "byteLimit": 2048000,
      "rowLimit": 10000
     },
     "inputWidgets": {},
     "nuid": "80213da0-a567-4769-8a36-d9e3fa2b0821",
     "showTitle": false,
     "title": ""
    }
   },
   "outputs": [
    {
     "output_type": "stream",
     "name": "stdout",
     "output_type": "stream",
     "text": [
      "+-------+----------+--------------------+--------------------+-------------------+-------+------------------+-------------------+--------------------+\n|summary|event_type|          product_id|         category_id|      category_code|  brand|             price|            user_id|        user_session|\n+-------+----------+--------------------+--------------------+-------------------+-------+------------------+-------------------+--------------------+\n|  count|   5500000|             5500000|             5500000|            3649094|4750788|           5500000|            5500000|             5500000|\n|   mean|      null| 1.102137204313491E7|2.057778111049706...|               null|    NaN|291.07515557269386|5.351721185402945E8|                null|\n| stddev|      null|1.2274869995597541E7|1.931905211657705...|               null|    NaN|  356.843136453366|2.022588010267833E7|                null|\n|    min|      cart|             1000365| 2053013552226107603|    accessories.bag| a-case|               0.0|           10300217|000003eb-b63e-45d...|\n|    max|      view|            62100031| 2180736567012753620|stationery.cartrige|  zyxel|           2574.07|          568422587|fffff595-6f32-4c2...|\n+-------+----------+--------------------+--------------------+-------------------+-------+------------------+-------------------+--------------------+\n\n"
     ]
    }
   ],
   "source": [
    "sample_df.describe().show()"
   ]
  },
  {
   "cell_type": "code",
   "execution_count": 0,
   "metadata": {
    "application/vnd.databricks.v1+cell": {
     "cellMetadata": {
      "byteLimit": 2048000,
      "rowLimit": 10000
     },
     "inputWidgets": {},
     "nuid": "c9234712-2737-4339-bf63-c6a23c4dbe3d",
     "showTitle": false,
     "title": ""
    },
    "scrolled": true
   },
   "outputs": [
    {
     "output_type": "stream",
     "name": "stdout",
     "output_type": "stream",
     "text": [
      "+-------+------------------+\n|summary|             price|\n+-------+------------------+\n|  count|           5500000|\n|   mean|291.07515557269386|\n| stddev|  356.843136453366|\n|    min|               0.0|\n|    25%|             64.35|\n|    50%|            160.36|\n|    75%|            361.39|\n|    max|           2574.07|\n+-------+------------------+\n\n"
     ]
    }
   ],
   "source": [
    "sample_df.summary().select([\"summary\",\"price\"]).show()"
   ]
  },
  {
   "cell_type": "code",
   "execution_count": 0,
   "metadata": {
    "application/vnd.databricks.v1+cell": {
     "cellMetadata": {
      "byteLimit": 2048000,
      "rowLimit": 10000
     },
     "inputWidgets": {},
     "nuid": "7fbdc8aa-8006-4839-820e-f07784fb998f",
     "showTitle": false,
     "title": ""
    }
   },
   "outputs": [
    {
     "output_type": "stream",
     "name": "stdout",
     "output_type": "stream",
     "text": [
      "Out[14]: 5500000"
     ]
    }
   ],
   "source": [
    "sample_df.count()"
   ]
  },
  {
   "cell_type": "code",
   "execution_count": 0,
   "metadata": {
    "application/vnd.databricks.v1+cell": {
     "cellMetadata": {
      "byteLimit": 2048000,
      "rowLimit": 10000
     },
     "inputWidgets": {},
     "nuid": "dd562791-69de-4889-9b9e-f1eea302c4f9",
     "showTitle": false,
     "title": ""
    }
   },
   "outputs": [
    {
     "output_type": "stream",
     "name": "stdout",
     "output_type": "stream",
     "text": [
      "Out[15]: 5497952"
     ]
    }
   ],
   "source": [
    "# drop duplicates rows\n",
    "sample_df=sample_df.distinct()\n",
    "sample_df.count()"
   ]
  },
  {
   "cell_type": "code",
   "execution_count": 0,
   "metadata": {
    "application/vnd.databricks.v1+cell": {
     "cellMetadata": {
      "byteLimit": 2048000,
      "rowLimit": 10000
     },
     "inputWidgets": {},
     "nuid": "2847ba71-6204-4ae0-912d-03564a9f2476",
     "showTitle": false,
     "title": ""
    }
   },
   "outputs": [
    {
     "output_type": "stream",
     "name": "stdout",
     "output_type": "stream",
     "text": [
      "+----------------------------------------------------------------------------------+\n|count(CASE WHEN ((category_code IS NULL) AND (brand IS NULL)) AS cnt THEN cnt END)|\n+----------------------------------------------------------------------------------+\n|                                                                            448049|\n+----------------------------------------------------------------------------------+\n\n"
     ]
    }
   ],
   "source": [
    "sample_df.select(count(when((col('category_code').isNull() & col('brand').isNull()).alias('cnt'),'cnt'))).show()"
   ]
  },
  {
   "cell_type": "markdown",
   "metadata": {
    "application/vnd.databricks.v1+cell": {
     "cellMetadata": {
      "byteLimit": 2048000,
      "rowLimit": 10000
     },
     "inputWidgets": {},
     "nuid": "79d336f6-493d-4448-9f82-18c4c2f0d586",
     "showTitle": false,
     "title": ""
    }
   },
   "source": [
    "##### Handling Null Values"
   ]
  },
  {
   "cell_type": "code",
   "execution_count": 0,
   "metadata": {
    "application/vnd.databricks.v1+cell": {
     "cellMetadata": {
      "byteLimit": 2048000,
      "rowLimit": 10000
     },
     "inputWidgets": {},
     "nuid": "68f06849-0264-4524-bd55-380fc985a155",
     "showTitle": false,
     "title": ""
    }
   },
   "outputs": [],
   "source": [
    "sample_df=sample_df.fillna(\"non-brand\",subset=['brand'])"
   ]
  },
  {
   "cell_type": "code",
   "execution_count": 0,
   "metadata": {
    "application/vnd.databricks.v1+cell": {
     "cellMetadata": {
      "byteLimit": 2048000,
      "rowLimit": 10000
     },
     "inputWidgets": {},
     "nuid": "36bf1eb5-1ef3-4c86-857c-1c9ae23c5ebf",
     "showTitle": false,
     "title": ""
    }
   },
   "outputs": [
    {
     "output_type": "stream",
     "name": "stdout",
     "output_type": "stream",
     "text": [
      "+-----+\n|brand|\n+-----+\n|    0|\n+-----+\n\n"
     ]
    }
   ],
   "source": [
    "# Make sure that I fill all null brands to non-brand\n",
    "sample_df.select(count(when(col('brand').isNull(), 'brand')).alias('brand') ).show()"
   ]
  },
  {
   "cell_type": "code",
   "execution_count": 0,
   "metadata": {
    "application/vnd.databricks.v1+cell": {
     "cellMetadata": {
      "byteLimit": 2048000,
      "rowLimit": 10000
     },
     "inputWidgets": {},
     "nuid": "eb682b5e-d702-4f7c-b135-e1b78ffc8d38",
     "showTitle": false,
     "title": ""
    }
   },
   "outputs": [
    {
     "output_type": "stream",
     "name": "stdout",
     "output_type": "stream",
     "text": [
      "+----------------------------------------------------------------------------------+\n|count(CASE WHEN ((category_code IS NULL) AND (brand IS NULL)) AS cnt THEN cnt END)|\n+----------------------------------------------------------------------------------+\n|                                                                                 0|\n+----------------------------------------------------------------------------------+\n\n"
     ]
    }
   ],
   "source": [
    "# if there are no null brands the result will be zero\n",
    "sample_df.select(count(when((col('category_code').isNull() & col('brand').isNull()).alias('cnt'),'cnt'))).show()"
   ]
  },
  {
   "cell_type": "code",
   "execution_count": 0,
   "metadata": {
    "application/vnd.databricks.v1+cell": {
     "cellMetadata": {
      "byteLimit": 2048000,
      "rowLimit": 10000
     },
     "inputWidgets": {},
     "nuid": "feebd5e3-dc0d-4dcf-949a-3d7228f69a19",
     "showTitle": false,
     "title": ""
    }
   },
   "outputs": [],
   "source": [
    "sample_df=sample_df.fillna(\"misc-categories.misc-products\",subset=['category_code'])"
   ]
  },
  {
   "cell_type": "code",
   "execution_count": 0,
   "metadata": {
    "application/vnd.databricks.v1+cell": {
     "cellMetadata": {
      "byteLimit": 2048000,
      "rowLimit": 10000
     },
     "inputWidgets": {},
     "nuid": "8344d5b5-094d-4663-be22-92c6cda8e046",
     "showTitle": false,
     "title": ""
    }
   },
   "outputs": [
    {
     "output_type": "stream",
     "name": "stdout",
     "output_type": "stream",
     "text": [
      "+-------------+\n|category_code|\n+-------------+\n|            0|\n+-------------+\n\n"
     ]
    }
   ],
   "source": [
    "# Make sure that I fill all null categories which refers also to products to misc\n",
    "sample_df.select(count(when(col('category_code').isNull(), 'category_code')).alias('category_code') ).show()"
   ]
  },
  {
   "cell_type": "code",
   "execution_count": 0,
   "metadata": {
    "application/vnd.databricks.v1+cell": {
     "cellMetadata": {
      "byteLimit": 2048000,
      "rowLimit": 10000
     },
     "inputWidgets": {},
     "nuid": "dd86696e-e32e-438e-b698-09b8b99fcf3b",
     "showTitle": false,
     "title": ""
    }
   },
   "outputs": [
    {
     "output_type": "stream",
     "name": "stdout",
     "output_type": "stream",
     "text": [
      "+----------+----------+----------+-----------+-------------+-----+-----+-------+------------+\n|event_time|event_type|product_id|category_id|category_code|brand|price|user_id|user_session|\n+----------+----------+----------+-----------+-------------+-----+-----+-------+------------+\n|         0|         0|         0|          0|            0|    0|    0|      0|           0|\n+----------+----------+----------+-----------+-------------+-----+-----+-------+------------+\n\n"
     ]
    }
   ],
   "source": [
    "#Count number of nulls for each column\n",
    "sample_df.select([count(when(col(c).isNull(), c)).alias(c) for c in sample_df.columns]).show()"
   ]
  },
  {
   "cell_type": "markdown",
   "metadata": {
    "application/vnd.databricks.v1+cell": {
     "cellMetadata": {
      "byteLimit": 2048000,
      "rowLimit": 10000
     },
     "inputWidgets": {},
     "nuid": "fa722615-fce3-42a3-9d63-aa8237c3672b",
     "showTitle": false,
     "title": ""
    }
   },
   "source": [
    "#### Data Preparation "
   ]
  },
  {
   "cell_type": "code",
   "execution_count": 0,
   "metadata": {
    "application/vnd.databricks.v1+cell": {
     "cellMetadata": {
      "byteLimit": 2048000,
      "rowLimit": 10000
     },
     "inputWidgets": {},
     "nuid": "adcac25e-2da3-41f6-8434-60a86719976e",
     "showTitle": false,
     "title": ""
    }
   },
   "outputs": [],
   "source": [
    "# create two new columns one for category name and the other for product name by splitting category_code record only first occurance\n",
    "sample_df=sample_df.withColumn('category_name',udf(lambda x :str(x).split('.',1)[0])('category_code'))\n",
    "sample_df=sample_df.withColumn('product_name',udf(lambda x :str(x).split('.',1)[1])('category_code'))"
   ]
  },
  {
   "cell_type": "code",
   "execution_count": 0,
   "metadata": {
    "application/vnd.databricks.v1+cell": {
     "cellMetadata": {
      "byteLimit": 2048000,
      "rowLimit": 10000
     },
     "inputWidgets": {},
     "nuid": "28df76b7-d4b9-4ca4-a691-8720d93e007e",
     "showTitle": false,
     "title": ""
    }
   },
   "outputs": [
    {
     "output_type": "stream",
     "name": "stdout",
     "output_type": "stream",
     "text": [
      "+-------------------+----------+----------+-----------+--------------------+----------+------+---------+--------------------+---------------+--------------------+--------+--------+\n|         event_time|event_type|product_id|category_id|       category_code|     brand| price|  user_id|        user_session|  category_name|        product_name|event_id|brand_id|\n+-------------------+----------+----------+-----------+--------------------+----------+------+---------+--------------------+---------------+--------------------+--------+--------+\n|2019-10-03 03:24:52|      view|       102|          8|electronics.smart...|   samsung|253.02|552407273|b034e464-5fb3-457...|    electronics|          smartphone|       3|    2592|\n|2019-10-03 03:25:04|      view|        26|          8|  electronics.clocks|    xiaomi|166.03|525487404|3a251387-ced0-497...|    electronics|              clocks|       3|    3239|\n|2019-10-03 03:25:28|      view|        13|          8|electronics.audio...| non-brand|676.98|513530601|25473dc9-1634-4c1...|    electronics|     audio.subwoofer|       3|    2154|\n|2019-10-03 03:25:58|      view|        26|          8|  electronics.clocks|    wonlex| 28.31|556220779|f9f3b471-21b1-468...|    electronics|              clocks|       3|    3220|\n|2019-10-03 03:26:35|      view|        77|         12|misc-categories.m...|   solomon|308.89|515349594|a9ecdedf-ef0a-423...|misc-categories|       misc-products|       3|    2748|\n|2019-10-03 03:26:40|      view|        77|         12|misc-categories.m...| non-brand|746.48|546062576|e9baa063-b9f2-498...|misc-categories|       misc-products|       3|    2154|\n|2019-10-03 03:26:48|      view|        77|         12|misc-categories.m...|powerplant|  5.12|529738377|ff752eac-382c-49a...|misc-categories|       misc-products|       3|    2376|\n|2019-10-03 03:26:57|      view|        44|          3|appliances.enviro...|    thomas|375.79|554618810|fd12948b-2138-4ec...|     appliances|  environment.vacuum|       3|    2925|\n|2019-10-03 03:27:08|      view|        72|          3|appliances.kitche...|     bosch|388.11|532235930|a2aa0702-3184-489...|     appliances|      kitchen.washer|       3|     445|\n|2019-10-03 03:27:21|      view|       102|          8|electronics.smart...|     meizu| 71.82|549341120|624bd9d0-8319-40f...|    electronics|          smartphone|       3|    1927|\n|2019-10-03 03:27:43|      view|       102|          8|electronics.smart...|    xiaomi| 201.4|543300776|50082742-677c-43d...|    electronics|          smartphone|       3|    3239|\n|2019-10-03 03:27:56|      view|        77|         12|misc-categories.m...|  cordiant| 39.25|513062793|d150f2ed-c2c7-43e...|misc-categories|       misc-products|       3|     668|\n|2019-10-03 03:29:16|      view|        68|          3|appliances.kitche...| non-brand|200.78|554271028|dc77cb98-c31d-4fc...|     appliances|kitchen.refrigera...|       3|    2154|\n|2019-10-03 03:29:42|      view|       102|          8|electronics.smart...|    huawei|141.55|521893006|31d17277-3630-47c...|    electronics|          smartphone|       3|    1355|\n|2019-10-03 03:30:01|      view|        77|         12|misc-categories.m...|  triangle| 47.36|513506800|41d0e54a-b57b-4d1...|misc-categories|       misc-products|       3|    3001|\n|2019-10-03 03:30:04|      view|       102|          8|electronics.smart...|    huawei| 274.9|549354982|7b0d24e8-d671-469...|    electronics|          smartphone|       3|    1355|\n|2019-10-03 03:30:11|      view|        26|          8|  electronics.clocks|     apple| 419.6|515768201|24b0fca4-5bc0-42f...|    electronics|              clocks|       3|     165|\n|2019-10-03 03:30:27|      view|        77|         12|misc-categories.m...|       bts|445.29|551975379|b2d697fc-7111-42a...|misc-categories|       misc-products|       3|     486|\n|2019-10-03 03:30:30|      view|        77|         12|misc-categories.m...|  cordiant| 26.51|517107876|6b6a90c2-e813-425...|misc-categories|       misc-products|       3|     668|\n|2019-10-03 03:31:03|      cart|       102|          8|electronics.smart...|   samsung|380.83|513168816|e0cf4e6f-d8b4-4ff...|    electronics|          smartphone|       1|    2592|\n+-------------------+----------+----------+-----------+--------------------+----------+------+---------+--------------------+---------------+--------------------+--------+--------+\nonly showing top 20 rows\n\n"
     ]
    }
   ],
   "source": [
    "##Use window function dense_rank to generate new ids \n",
    "#lit() function is used to add constant as a new column to the DataFrame.\n",
    "sample_df=sample_df.withColumn('order', row_number().over(Window.partitionBy(lit('1')).orderBy(lit('1'))))\\\n",
    ".withColumn('product_id', dense_rank().over(Window.partitionBy().orderBy('product_name'))).orderBy('order')\\\n",
    ".withColumn('category_id', dense_rank().over(Window.partitionBy().orderBy('category_name'))).orderBy('order')\\\n",
    ".withColumn('event_id', dense_rank().over(Window.partitionBy().orderBy('event_type'))).orderBy('order')\\\n",
    ".withColumn('brand_id', dense_rank().over(Window.partitionBy().orderBy('brand'))).orderBy('order')\\\n",
    ".drop('order')\n",
    "sample_df.show()"
   ]
  },
  {
   "cell_type": "code",
   "execution_count": 0,
   "metadata": {
    "application/vnd.databricks.v1+cell": {
     "cellMetadata": {
      "byteLimit": 2048000,
      "rowLimit": 10000
     },
     "inputWidgets": {},
     "nuid": "1142ce10-8f53-4c78-a6e4-66bd1dbc894d",
     "showTitle": false,
     "title": ""
    }
   },
   "outputs": [],
   "source": [
    "# extract date from timestamp & create date calender\n",
    "sample_df=sample_df.withColumn('date',to_date('event_time'))\n",
    "sample_df=sample_df.withColumn('year',year(sample_df['event_time']))\\\n",
    ".withColumn('quarter',quarter(sample_df['event_time']))\\\n",
    ".withColumn('month',month(sample_df['event_time']))\\\n",
    ".withColumn('day',dayofmonth(sample_df['event_time']))"
   ]
  },
  {
   "cell_type": "markdown",
   "metadata": {
    "application/vnd.databricks.v1+cell": {
     "cellMetadata": {
      "byteLimit": 2048000,
      "rowLimit": 10000
     },
     "inputWidgets": {},
     "nuid": "13eed895-f0bf-4ce3-a5ae-38702c8d3e05",
     "showTitle": false,
     "title": ""
    }
   },
   "source": [
    "###### Calculate User Spending Time Per Product (low level)"
   ]
  },
  {
   "cell_type": "code",
   "execution_count": 0,
   "metadata": {
    "application/vnd.databricks.v1+cell": {
     "cellMetadata": {
      "byteLimit": 2048000,
      "rowLimit": 10000
     },
     "inputWidgets": {},
     "nuid": "87983dfe-9551-406e-8fd0-b45ac9b8afc5",
     "showTitle": false,
     "title": ""
    }
   },
   "outputs": [
    {
     "output_type": "stream",
     "name": "stdout",
     "output_type": "stream",
     "text": [
      "+---------+--------------------+--------------------+---------+\n|  user_id|        user_session|        product_name|max_pro_n|\n+---------+--------------------+--------------------+---------+\n|515153260|44bf041d-a936-4eb...|       misc-products|       29|\n|514110098|778f5ab8-6fd9-4e5...|          smartphone|       11|\n|514756936|c59ae8e8-f678-4c1...|          smartphone|        3|\n|540642289|ca77e650-0da3-439...|            video.tv|        6|\n|525780252|0d82d7c4-2f99-429...|          smartphone|        8|\n|514949941|717ba713-3498-44b...|kitchen.refrigera...|        2|\n|516002162|6c97702a-3a9e-4a0...|          smartphone|       13|\n|545535009|d7341e2e-f2da-466...|       misc-products|        4|\n|554403700|faa50fd2-d1b2-4bd...|          smartphone|        6|\n|514151488|3c7b31f3-1fd3-4a7...|       misc-products|       21|\n|515371454|0c5fd4d4-eb31-4b2...|kitchen.meat_grinder|       12|\n|556229624|2aabf009-1e4f-4d3...|          smartphone|        3|\n|556219802|abe53c0c-dc31-4b5...|          smartphone|       17|\n|551825890|19c0c0fb-755f-43b...|kitchen.refrigera...|        6|\n|556225236|e7401488-250d-479...|          smartphone|        2|\n|548227782|0ac6768f-5fc0-464...|  environment.vacuum|        3|\n|515911804|270d5a9e-472d-437...|              clocks|        3|\n|516055544|aed02478-a6d0-4fc...|            video.tv|        3|\n|528172586|3569b185-c6f3-40c...|   kitchen.microwave|        8|\n|520815996|1cdb0afb-8d97-416...|       misc-products|       18|\n+---------+--------------------+--------------------+---------+\nonly showing top 20 rows\n\n"
     ]
    }
   ],
   "source": [
    "sample_df.groupBy(['user_id','user_session','product_name']).agg(count('*').alias(\"max_pro_n\"))\\\n",
    ".filter(col('max_pro_n') >1 ).show()"
   ]
  },
  {
   "cell_type": "code",
   "execution_count": 0,
   "metadata": {
    "application/vnd.databricks.v1+cell": {
     "cellMetadata": {
      "byteLimit": 2048000,
      "rowLimit": 10000
     },
     "inputWidgets": {},
     "nuid": "88af875c-4faa-44a7-a77b-c14ef4a1bc0a",
     "showTitle": false,
     "title": ""
    }
   },
   "outputs": [],
   "source": [
    "maximum_spendtime=sample_df.groupBy(['user_id','user_session','product_name']).agg(max('event_time').alias(\"max_event_time\"))\n",
    "minimum_spendtime=sample_df.groupBy(['user_id','user_session','product_name']).agg(min('event_time').alias(\"min_event_time\"))"
   ]
  },
  {
   "cell_type": "code",
   "execution_count": 0,
   "metadata": {
    "application/vnd.databricks.v1+cell": {
     "cellMetadata": {
      "byteLimit": 2048000,
      "rowLimit": 10000
     },
     "inputWidgets": {},
     "nuid": "74c5e22a-7a9f-4e78-bda6-bd6456b27ec0",
     "showTitle": false,
     "title": ""
    }
   },
   "outputs": [
    {
     "output_type": "stream",
     "name": "stdout",
     "output_type": "stream",
     "text": [
      "Out[28]: DataFrame[user_id: int, user_session: string, product_name: string, max_event_time: timestamp, min_event_time: timestamp]"
     ]
    }
   ],
   "source": [
    "spenttime_df = maximum_spendtime.join(minimum_spendtime,on=['user_id','user_session','product_name'],how='inner')\n",
    "spenttime_df"
   ]
  },
  {
   "cell_type": "code",
   "execution_count": 0,
   "metadata": {
    "application/vnd.databricks.v1+cell": {
     "cellMetadata": {
      "byteLimit": 2048000,
      "rowLimit": 10000
     },
     "inputWidgets": {},
     "nuid": "bfe37c66-b160-4d65-8656-abb1bbf07e5d",
     "showTitle": false,
     "title": ""
    }
   },
   "outputs": [
    {
     "output_type": "stream",
     "name": "stdout",
     "output_type": "stream",
     "text": [
      "Out[29]: 1474625"
     ]
    }
   ],
   "source": [
    "spenttime_df.count()"
   ]
  },
  {
   "cell_type": "code",
   "execution_count": 0,
   "metadata": {
    "application/vnd.databricks.v1+cell": {
     "cellMetadata": {
      "byteLimit": 2048000,
      "rowLimit": 10000
     },
     "inputWidgets": {},
     "nuid": "c086497a-79f0-4edb-8535-583d94ca829f",
     "showTitle": false,
     "title": ""
    }
   },
   "outputs": [
    {
     "output_type": "stream",
     "name": "stdout",
     "output_type": "stream",
     "text": [
      "+---------+--------------------+------------------+-------------------+-------------------+---------------+\n|  user_id|        user_session|      product_name|     max_event_time|     min_event_time|spent_time(sec)|\n+---------+--------------------+------------------+-------------------+-------------------+---------------+\n|226242984|9c65f95d-2b03-4f9...|   audio.headphone|2019-11-04 12:32:55|2019-11-04 12:32:55|              0|\n|249217260|5fa0e6be-3523-431...|     misc-products|2019-11-05 00:02:03|2019-11-05 00:02:03|              0|\n|280194708|4c51d9d1-8000-405...|          notebook|2019-11-06 15:23:55|2019-11-06 15:23:02|             53|\n|295005705|241bb568-3ec9-42c...|     misc-products|2019-10-03 04:56:19|2019-10-03 04:52:46|            213|\n|311301257|f87aa8c1-ad90-40d...|environment.vacuum|2019-10-03 12:12:13|2019-10-03 12:12:13|              0|\n|335961922|b0142bec-ff7b-499...|     misc-products|2019-11-06 15:34:32|2019-11-06 15:34:32|              0|\n|339186405|15197c7e-aba0-43b...|        smartphone|2019-11-06 07:00:32|2019-11-06 07:00:32|              0|\n|343736780|7d1d50ba-20dc-448...|        smartphone|2019-11-04 15:18:54|2019-11-04 15:18:54|              0|\n|347654554|e1eeec78-2950-43a...|        shoes.keds|2019-11-06 10:45:47|2019-11-06 10:42:18|            209|\n|355987852|ef444356-5fa4-460...|     misc-products|2019-11-05 08:47:52|2019-11-05 08:47:52|              0|\n|356520186|d63363f6-5d93-490...|environment.vacuum|2019-11-05 14:29:53|2019-11-05 14:26:25|            208|\n|359825691|838fdbe3-e3cb-424...|            clocks|2019-10-03 04:02:10|2019-10-03 04:01:22|             48|\n|380533140|5ce0878c-b9b9-492...|        smartphone|2019-11-04 08:59:23|2019-11-04 08:59:23|              0|\n|383311147|e63224c8-0521-443...|        shoes.keds|2019-11-05 17:28:24|2019-11-05 17:28:12|             12|\n|383633259|1ad6e088-867a-434...|   audio.headphone|2019-10-03 04:02:53|2019-10-03 04:02:53|              0|\n|383903465|f00774d7-a8b2-4d2...|     misc-products|2019-11-05 07:02:12|2019-11-05 07:01:12|             60|\n|384178238|14abdd1f-f2e5-4c7...|     misc-products|2019-11-05 15:13:37|2019-11-05 15:13:37|              0|\n|386411974|82cef004-6a2e-413...|     misc-products|2019-11-07 03:40:45|2019-11-07 03:39:30|             75|\n|387798561|63adbdf2-0260-4ce...|        shoes.keds|2019-11-07 01:40:25|2019-11-07 01:40:25|              0|\n|392386729|8a56600e-f187-437...|     misc-products|2019-11-05 05:02:35|2019-11-05 04:53:06|            569|\n+---------+--------------------+------------------+-------------------+-------------------+---------------+\nonly showing top 20 rows\n\n"
     ]
    }
   ],
   "source": [
    "spenttime_df.withColumn('spent_time(sec)',col(\"max_event_time\").cast(\"long\")-col(\"min_event_time\").cast(\"long\")).show()"
   ]
  },
  {
   "cell_type": "code",
   "execution_count": 0,
   "metadata": {
    "application/vnd.databricks.v1+cell": {
     "cellMetadata": {
      "byteLimit": 2048000,
      "rowLimit": 10000
     },
     "inputWidgets": {},
     "nuid": "dbdb9e95-52c6-4fa5-b764-442f63521eb9",
     "showTitle": false,
     "title": ""
    }
   },
   "outputs": [],
   "source": [
    "# calculate user spent time on product \n",
    "spenttime_df=spenttime_df.withColumn('spent_time(sec)',col(\"max_event_time\").cast(\"long\")-col(\"min_event_time\").cast(\"long\"))"
   ]
  },
  {
   "cell_type": "code",
   "execution_count": 0,
   "metadata": {
    "application/vnd.databricks.v1+cell": {
     "cellMetadata": {
      "byteLimit": 2048000,
      "rowLimit": 10000
     },
     "inputWidgets": {},
     "nuid": "10d38526-8a9c-4d5f-bc24-52c99e6bc350",
     "showTitle": false,
     "title": ""
    }
   },
   "outputs": [],
   "source": [
    "#join the result with whole date set\n",
    "sample_df=sample_df.join(spenttime_df, on =['user_id','user_session','product_name'], how ='inner')"
   ]
  },
  {
   "cell_type": "markdown",
   "metadata": {
    "application/vnd.databricks.v1+cell": {
     "cellMetadata": {
      "byteLimit": 2048000,
      "rowLimit": 10000
     },
     "inputWidgets": {},
     "nuid": "6acbe535-bd64-4ef8-a750-ee706f73f3a7",
     "showTitle": false,
     "title": ""
    }
   },
   "source": [
    "#### Build a Data Model"
   ]
  },
  {
   "cell_type": "markdown",
   "metadata": {
    "application/vnd.databricks.v1+cell": {
     "cellMetadata": {
      "byteLimit": 2048000,
      "rowLimit": 10000
     },
     "inputWidgets": {},
     "nuid": "44e481b3-74d0-49bf-bc22-c722b548cc39",
     "showTitle": false,
     "title": ""
    }
   },
   "source": [
    "#### Create Customers Table"
   ]
  },
  {
   "cell_type": "markdown",
   "metadata": {
    "application/vnd.databricks.v1+cell": {
     "cellMetadata": {
      "byteLimit": 2048000,
      "rowLimit": 10000
     },
     "inputWidgets": {},
     "nuid": "9dfb4bc1-fc3f-416a-bad6-de5d287f1eaa",
     "showTitle": false,
     "title": ""
    }
   },
   "source": [
    "##### Create fake data for customers information"
   ]
  },
  {
   "cell_type": "code",
   "execution_count": 0,
   "metadata": {
    "application/vnd.databricks.v1+cell": {
     "cellMetadata": {
      "byteLimit": 2048000,
      "rowLimit": 10000
     },
     "inputWidgets": {},
     "nuid": "45c233fe-fb32-4a9b-8b9a-ce614575306f",
     "showTitle": false,
     "title": ""
    }
   },
   "outputs": [],
   "source": [
    "customers_df=sample_df[['user_id']].distinct().sort(col(\"user_id\").asc())"
   ]
  },
  {
   "cell_type": "code",
   "execution_count": 0,
   "metadata": {
    "application/vnd.databricks.v1+cell": {
     "cellMetadata": {
      "byteLimit": 2048000,
      "rowLimit": 10000
     },
     "inputWidgets": {},
     "nuid": "9d8a54f8-873a-431b-9329-24f64fc7660c",
     "showTitle": false,
     "title": ""
    }
   },
   "outputs": [
    {
     "output_type": "stream",
     "name": "stdout",
     "output_type": "stream",
     "text": [
      "Out[34]: 710043"
     ]
    }
   ],
   "source": [
    "customers_df.count()"
   ]
  },
  {
   "cell_type": "code",
   "execution_count": 0,
   "metadata": {
    "application/vnd.databricks.v1+cell": {
     "cellMetadata": {
      "byteLimit": 2048000,
      "rowLimit": 10000
     },
     "inputWidgets": {},
     "nuid": "a5c8f63f-7b27-4573-9ba1-9246f576d1f2",
     "showTitle": false,
     "title": ""
    }
   },
   "outputs": [],
   "source": [
    "fake = Faker()\n",
    "fake_names = [fake.name() for _ in range(0,710043)]"
   ]
  },
  {
   "cell_type": "code",
   "execution_count": 0,
   "metadata": {
    "application/vnd.databricks.v1+cell": {
     "cellMetadata": {
      "byteLimit": 2048000,
      "rowLimit": 10000
     },
     "inputWidgets": {},
     "nuid": "f92c0cb7-4bb0-46fd-97f8-f8606bc0dc10",
     "showTitle": false,
     "title": ""
    }
   },
   "outputs": [],
   "source": [
    "fake_address = [fake.address() for _ in range(0,710043)]"
   ]
  },
  {
   "cell_type": "code",
   "execution_count": 0,
   "metadata": {
    "application/vnd.databricks.v1+cell": {
     "cellMetadata": {
      "byteLimit": 2048000,
      "rowLimit": 10000
     },
     "inputWidgets": {},
     "nuid": "1cbe3fdb-52a9-4c21-8f20-4549ba916574",
     "showTitle": false,
     "title": ""
    }
   },
   "outputs": [],
   "source": [
    "fake_email = [fake.email() for _ in range(0,710043)]"
   ]
  },
  {
   "cell_type": "code",
   "execution_count": 0,
   "metadata": {
    "application/vnd.databricks.v1+cell": {
     "cellMetadata": {
      "byteLimit": 2048000,
      "rowLimit": 10000
     },
     "inputWidgets": {},
     "nuid": "26814a71-8b57-4c8e-9f75-55f82cb8d730",
     "showTitle": false,
     "title": ""
    }
   },
   "outputs": [
    {
     "output_type": "stream",
     "name": "stdout",
     "output_type": "stream",
     "text": [
      "Out[38]: ['user_id']"
     ]
    }
   ],
   "source": [
    "customers_df.columns"
   ]
  },
  {
   "cell_type": "code",
   "execution_count": 0,
   "metadata": {
    "application/vnd.databricks.v1+cell": {
     "cellMetadata": {
      "byteLimit": 2048000,
      "rowLimit": 10000
     },
     "inputWidgets": {},
     "nuid": "61706f5d-4795-4774-ad2d-777b9d3c1078",
     "showTitle": false,
     "title": ""
    }
   },
   "outputs": [
    {
     "output_type": "stream",
     "name": "stdout",
     "output_type": "stream",
     "text": [
      "+---------+----------------+--------------------+--------------------+\n|  user_id|   customer_name|             address|               email|\n+---------+----------------+--------------------+--------------------+\n| 10300217| Jordan Gonzalez|43090 Miller Ridg...|  hclark@example.net|\n|161080209|   Douglas Walsh|775 Nathan Mounta...|joannchaney@examp...|\n|170180460|      Roy Bailey|4875 Todd Crossin...|rcampbell@example...|\n|208701646|    Andrea Sloan|3902 Deborah Park...|  eric65@example.org|\n|222349603|   Tammy Johnson|1665 Shaw Through...|ejohnson@example.net|\n|226242984|   Donna Kennedy|3470 Kayla Spur S...|henrymartin@examp...|\n|239846716|     James Olson|PSC 7516, Box 742...|michaelrobinson@e...|\n|249217260|   Ashley Monroe|392 King Way\\nWil...|deborah94@example...|\n|253299396|  Lindsey Guzman|157 Young Corners...|rodgersmatthew@ex...|\n|255931440|     Kevin Smith|4963 Charles Cour...| david95@example.org|\n|265601964|      Gary Perez|1318 Karina Mall\\...|chadsellers@examp...|\n|272811580| Philip Gonzalez|5559 James Plains...|thomaschristine@e...|\n|275952523|  Nathan Freeman|70024 Murray Park...|grayraymond@examp...|\n|276302719|Theresa Gonzalez|6667 Donna Strave...|donald93@example.org|\n|279962647|   Hailey Morrow|495 Rachel Rapids...|   xross@example.net|\n|280194708|   Shannon Smith|363 Nicole Hollow...|robinsonpatricia@...|\n|288929779|  Nicole Roberts|Unit 9393 Box 858...|jacksonangela@exa...|\n|293335683|   Joan Jennings|04158 James Haven...|uwebster@example.net|\n|295005705|         Dawn Li|1493 Sanchez Fall...|quinnlisa@example...|\n|295549687|  Rebecca Harmon|38438 Kevin Squar...|martha59@example.org|\n+---------+----------------+--------------------+--------------------+\nonly showing top 20 rows\n\n"
     ]
    }
   ],
   "source": [
    "window = Window.orderBy(\"user_id\")\n",
    "customers_df = customers_df.withColumn(\"customer_name\",udf(lambda x: fake_names[x-1])(row_number().over(window))).withColumn(\"address\",udf(lambda x: fake_address[x-1])(row_number().over(window)))\\\n",
    ".withColumn(\"email\",udf(lambda x: fake_email[x-1])(row_number().over(window)))\n",
    "customers_df.show()"
   ]
  },
  {
   "cell_type": "code",
   "execution_count": 0,
   "metadata": {
    "application/vnd.databricks.v1+cell": {
     "cellMetadata": {
      "byteLimit": 2048000,
      "rowLimit": 10000
     },
     "inputWidgets": {},
     "nuid": "0e05d910-c1e8-4978-b3c9-ba0b09af7329",
     "showTitle": false,
     "title": ""
    }
   },
   "outputs": [],
   "source": [
    "customers_df.write.mode(\"overwrite\").option(\"overwriteSchema\", \"true\").saveAsTable(\"customers\")"
   ]
  },
  {
   "cell_type": "markdown",
   "metadata": {
    "application/vnd.databricks.v1+cell": {
     "cellMetadata": {
      "byteLimit": 2048000,
      "rowLimit": 10000
     },
     "inputWidgets": {},
     "nuid": "ce09d7e2-c067-4988-8511-6eafbadcb0b3",
     "showTitle": false,
     "title": ""
    }
   },
   "source": [
    "#### Create Products Table"
   ]
  },
  {
   "cell_type": "code",
   "execution_count": 0,
   "metadata": {
    "application/vnd.databricks.v1+cell": {
     "cellMetadata": {
      "byteLimit": 2048000,
      "rowLimit": 10000
     },
     "inputWidgets": {},
     "nuid": "6604c26b-71f5-42dc-9e9c-a692f1a12aa4",
     "showTitle": false,
     "title": ""
    }
   },
   "outputs": [],
   "source": [
    "products_df=sample_df[['product_id','product_name']].distinct().sort(col(\"product_id\").asc())"
   ]
  },
  {
   "cell_type": "code",
   "execution_count": 0,
   "metadata": {
    "application/vnd.databricks.v1+cell": {
     "cellMetadata": {
      "byteLimit": 2048000,
      "rowLimit": 10000
     },
     "inputWidgets": {},
     "nuid": "99006b44-7c0a-4317-b94b-6e0daa130294",
     "showTitle": false,
     "title": ""
    }
   },
   "outputs": [],
   "source": [
    "products_df.write.mode(\"overwrite\").option(\"overwriteSchema\", \"true\").saveAsTable(\"products\")"
   ]
  },
  {
   "cell_type": "markdown",
   "metadata": {
    "application/vnd.databricks.v1+cell": {
     "cellMetadata": {
      "byteLimit": 2048000,
      "rowLimit": 10000
     },
     "inputWidgets": {},
     "nuid": "7701af8c-5989-456d-8fbc-66d02f8d7e18",
     "showTitle": false,
     "title": ""
    }
   },
   "source": [
    "#### Create Categories Table"
   ]
  },
  {
   "cell_type": "code",
   "execution_count": 0,
   "metadata": {
    "application/vnd.databricks.v1+cell": {
     "cellMetadata": {
      "byteLimit": 2048000,
      "rowLimit": 10000
     },
     "inputWidgets": {},
     "nuid": "93220560-2936-4c29-a88e-1256543415b3",
     "showTitle": false,
     "title": ""
    }
   },
   "outputs": [],
   "source": [
    "categories_df=sample_df[['category_id','category_name']].distinct().sort(col(\"category_id\").asc())"
   ]
  },
  {
   "cell_type": "code",
   "execution_count": 0,
   "metadata": {
    "application/vnd.databricks.v1+cell": {
     "cellMetadata": {
      "byteLimit": 2048000,
      "rowLimit": 10000
     },
     "inputWidgets": {},
     "nuid": "6a66a53b-da54-41db-9289-c9246749b0a9",
     "showTitle": false,
     "title": ""
    }
   },
   "outputs": [],
   "source": [
    "categories_df.write.mode(\"overwrite\").option(\"overwriteSchema\", \"true\").saveAsTable(\"categories\")"
   ]
  },
  {
   "cell_type": "markdown",
   "metadata": {
    "application/vnd.databricks.v1+cell": {
     "cellMetadata": {
      "byteLimit": 2048000,
      "rowLimit": 10000
     },
     "inputWidgets": {},
     "nuid": "c5feb326-d1b9-4ab3-8909-5f1c526cacee",
     "showTitle": false,
     "title": ""
    }
   },
   "source": [
    "#### Create Brand Table"
   ]
  },
  {
   "cell_type": "code",
   "execution_count": 0,
   "metadata": {
    "application/vnd.databricks.v1+cell": {
     "cellMetadata": {
      "byteLimit": 2048000,
      "rowLimit": 10000
     },
     "inputWidgets": {},
     "nuid": "40f776cf-1d03-4bdd-ae6a-3744fc901135",
     "showTitle": false,
     "title": ""
    }
   },
   "outputs": [
    {
     "output_type": "stream",
     "name": "stdout",
     "output_type": "stream",
     "text": [
      "+--------+-----------+\n|brand_id| brand_name|\n+--------+-----------+\n|       1|     a-case|\n|       2|    a-derma|\n|       3|    a-elita|\n|       4|     a-mega|\n|       5|   aardwolf|\n|       6|        abk|\n|       7|     abtoys|\n|       8|     accord|\n|       9| accumaster|\n|      10|        acd|\n|      11|    acebeam|\n|      12|       acer|\n|      13|       aces|\n|      14|   achilles|\n|      15|        acm|\n|      16|       acme|\n|      17|      acqua|\n|      18|      acron|\n|      19|     action|\n|      20|actiontrack|\n+--------+-----------+\nonly showing top 20 rows\n\n"
     ]
    }
   ],
   "source": [
    "brands_df=sample_df[['brand_id','brand']].distinct().sort(col(\"brand_id\").asc())\n",
    "brands_df=brands_df.withColumnRenamed('brand','brand_name')\n",
    "brands_df.show()"
   ]
  },
  {
   "cell_type": "code",
   "execution_count": 0,
   "metadata": {
    "application/vnd.databricks.v1+cell": {
     "cellMetadata": {
      "byteLimit": 2048000,
      "rowLimit": 10000
     },
     "inputWidgets": {},
     "nuid": "eba5195f-ea03-49db-b848-fb80bd661a7f",
     "showTitle": false,
     "title": ""
    }
   },
   "outputs": [],
   "source": [
    "brands_df.write.mode(\"overwrite\").option(\"overwriteSchema\", \"true\").saveAsTable(\"brands\")"
   ]
  },
  {
   "cell_type": "markdown",
   "metadata": {
    "application/vnd.databricks.v1+cell": {
     "cellMetadata": {
      "byteLimit": 2048000,
      "rowLimit": 10000
     },
     "inputWidgets": {},
     "nuid": "d4bc5880-f898-4ed0-8708-6cc09ed2a297",
     "showTitle": false,
     "title": ""
    }
   },
   "source": [
    "#### Create Event Types Table"
   ]
  },
  {
   "cell_type": "code",
   "execution_count": 0,
   "metadata": {
    "application/vnd.databricks.v1+cell": {
     "cellMetadata": {
      "byteLimit": 2048000,
      "rowLimit": 10000
     },
     "inputWidgets": {},
     "nuid": "d2ef998f-0014-4876-8a20-c21ab719b627",
     "showTitle": false,
     "title": ""
    }
   },
   "outputs": [],
   "source": [
    "event_types_df=sample_df[['event_id','event_type']].distinct().sort(col(\"event_id\").asc())\n",
    "event_types_df=event_types_df.withColumnRenamed('event_type','event_name')"
   ]
  },
  {
   "cell_type": "code",
   "execution_count": 0,
   "metadata": {
    "application/vnd.databricks.v1+cell": {
     "cellMetadata": {
      "byteLimit": 2048000,
      "rowLimit": 10000
     },
     "inputWidgets": {},
     "nuid": "57e6b746-f07d-4b00-959d-b64ef35473fc",
     "showTitle": false,
     "title": ""
    }
   },
   "outputs": [],
   "source": [
    "event_types_df.write.mode(\"overwrite\").option(\"overwriteSchema\", \"true\").saveAsTable(\"event_types\")"
   ]
  },
  {
   "cell_type": "markdown",
   "metadata": {
    "application/vnd.databricks.v1+cell": {
     "cellMetadata": {
      "byteLimit": 2048000,
      "rowLimit": 10000
     },
     "inputWidgets": {},
     "nuid": "4585a358-ab95-4197-8d64-9f86f297bc87",
     "showTitle": false,
     "title": ""
    }
   },
   "source": [
    "#### Create Date Dim Table"
   ]
  },
  {
   "cell_type": "code",
   "execution_count": 0,
   "metadata": {
    "application/vnd.databricks.v1+cell": {
     "cellMetadata": {
      "byteLimit": 2048000,
      "rowLimit": 10000
     },
     "inputWidgets": {},
     "nuid": "bfbfd4cd-cbf7-4536-9d4e-6886b420d1f5",
     "showTitle": false,
     "title": ""
    }
   },
   "outputs": [],
   "source": [
    "date_dim_df=sample_df[['date','year','quarter','month','day']].distinct().sort(col(\"date\").asc())"
   ]
  },
  {
   "cell_type": "code",
   "execution_count": 0,
   "metadata": {
    "application/vnd.databricks.v1+cell": {
     "cellMetadata": {
      "byteLimit": 2048000,
      "rowLimit": 10000
     },
     "inputWidgets": {},
     "nuid": "9d852427-1f4f-42db-afca-5119a527dff9",
     "showTitle": false,
     "title": ""
    }
   },
   "outputs": [],
   "source": [
    "date_dim_df.write.mode(\"overwrite\").option(\"overwriteSchema\", \"true\").saveAsTable(\"date_dim\")"
   ]
  },
  {
   "cell_type": "markdown",
   "metadata": {
    "application/vnd.databricks.v1+cell": {
     "cellMetadata": {
      "byteLimit": 2048000,
      "rowLimit": 10000
     },
     "inputWidgets": {},
     "nuid": "1587df79-7e9e-47f1-94cd-142510229a11",
     "showTitle": false,
     "title": ""
    }
   },
   "source": [
    "#### Transactions Fact Table"
   ]
  },
  {
   "cell_type": "code",
   "execution_count": 0,
   "metadata": {
    "application/vnd.databricks.v1+cell": {
     "cellMetadata": {
      "byteLimit": 2048000,
      "rowLimit": 10000
     },
     "inputWidgets": {},
     "nuid": "660a0f51-e0a6-4983-b979-714d1cf9dae3",
     "showTitle": false,
     "title": ""
    }
   },
   "outputs": [],
   "source": [
    "transactions_df=sample_df.withColumn('transaction_id', row_number().over(Window.partitionBy(lit('1')).orderBy(lit('1'))))\\\n",
    ".drop(\"product_name\",\"category_name\",\"event_type\",\"brand\",\"category_code\",\"year\",\"quarter\",\"month\",\"day\")\n"
   ]
  },
  {
   "cell_type": "code",
   "execution_count": 0,
   "metadata": {
    "application/vnd.databricks.v1+cell": {
     "cellMetadata": {
      "byteLimit": 2048000,
      "rowLimit": 10000
     },
     "inputWidgets": {},
     "nuid": "5168f6a3-d8f6-4df6-a2f0-6e12fb9bcc29",
     "showTitle": false,
     "title": ""
    }
   },
   "outputs": [],
   "source": [
    "transactions_df=transactions_df.withColumnRenamed(\"spent_time(sec)\",\"spent_time_sec\")\n",
    "transactions_df=transactions_df.sort(col(\"transaction_id\").asc())"
   ]
  },
  {
   "cell_type": "code",
   "execution_count": 0,
   "metadata": {
    "application/vnd.databricks.v1+cell": {
     "cellMetadata": {
      "byteLimit": 2048000,
      "rowLimit": 10000
     },
     "inputWidgets": {},
     "nuid": "daacc730-edbf-4661-8df9-b9ade309e905",
     "showTitle": false,
     "title": ""
    }
   },
   "outputs": [],
   "source": [
    "transactions_df.write.mode(\"overwrite\").option(\"overwriteSchema\", \"true\").saveAsTable(\"transactions_fact\")"
   ]
  }
 ],
 "metadata": {
  "application/vnd.databricks.v1+notebook": {
   "dashboards": [],
   "language": "python",
   "notebookMetadata": {
    "pythonIndentUnit": 4
   },
   "notebookName": "Spark Data Processing and Transformation",
   "widgets": {}
  },
  "kernelspec": {
   "display_name": "Python 3 (ipykernel)",
   "language": "python",
   "name": "python3"
  },
  "language_info": {
   "codemirror_mode": {
    "name": "ipython",
    "version": 3
   },
   "file_extension": ".py",
   "mimetype": "text/x-python",
   "name": "python",
   "nbconvert_exporter": "python",
   "pygments_lexer": "ipython3",
   "version": "3.10.9"
  }
 },
 "nbformat": 4,
 "nbformat_minor": 0
}
